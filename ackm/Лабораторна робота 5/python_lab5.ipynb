{
 "cells": [
  {
   "cell_type": "code",
   "execution_count": 1,
   "metadata": {},
   "outputs": [
    {
     "name": "stdout",
     "output_type": "stream",
     "text": [
      "Used resources: [300.0, 366.66666666666663, 100.0, 186.66666666666666]\n",
      "Saved resources: [ 0.         33.33333333  0.         13.33333333]\n",
      "Fuction value: -540.0\n"
     ]
    }
   ],
   "source": [
    "import numpy as np\n",
    "from scipy.optimize import linprog\n",
    "\n",
    "c = [-5, -8]\n",
    "b_ub = [300, 400, 100, 200]\n",
    "A_ub = [[2, 5], [4, 5], [3, 0], [0, 4]]\n",
    "\n",
    "bnd = [(0, 10000), (0, 10000)]\n",
    "\n",
    "def optimize(c, A_ub, b_ub, bnd):\n",
    "    d = linprog(c, A_ub, b_ub, method=\"simplex\", bounds=bnd, options={\"autoscale\": True})\n",
    "    for key, val in d.items():\n",
    "        if key == 'x':\n",
    "            q = [sum(i) for i in A_ub * val]\n",
    "            print('Used resources:', q)\n",
    "            q1 = np.array(b_ub) - np.array(q)\n",
    "            print('Saved resources:', q1)\n",
    "        elif key == \"fun\":\n",
    "            print(f\"Fuction value: {val}\")\n",
    "            \n",
    "optimize(c, A_ub, b_ub, bnd)"
   ]
  },
  {
   "cell_type": "code",
   "execution_count": 2,
   "metadata": {
    "scrolled": true
   },
   "outputs": [
    {
     "data": {
      "text/plain": [
       "'1.16.3'"
      ]
     },
     "execution_count": 2,
     "metadata": {},
     "output_type": "execute_result"
    }
   ],
   "source": [
    "np.__version__"
   ]
  },
  {
   "cell_type": "code",
   "execution_count": null,
   "metadata": {},
   "outputs": [],
   "source": []
  }
 ],
 "metadata": {
  "kernelspec": {
   "display_name": "Python ml",
   "language": "python",
   "name": "ml"
  },
  "language_info": {
   "codemirror_mode": {
    "name": "ipython",
    "version": 3
   },
   "file_extension": ".py",
   "mimetype": "text/x-python",
   "name": "python",
   "nbconvert_exporter": "python",
   "pygments_lexer": "ipython3",
   "version": "3.7.8"
  }
 },
 "nbformat": 4,
 "nbformat_minor": 4
}
