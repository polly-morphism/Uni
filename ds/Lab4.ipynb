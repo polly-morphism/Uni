{
 "cells": [
  {
   "cell_type": "markdown",
   "metadata": {},
   "source": [
    "### Лаборотрна робота 4\n",
    "#### Регресійний аналіз\n",
    "###### Верзун Поліни КМ-81"
   ]
  },
  {
   "cell_type": "code",
   "execution_count": 20,
   "metadata": {},
   "outputs": [],
   "source": [
    "import scipy.stats as st\n",
    "import numpy as np\n",
    "import pandas as pd\n",
    "from math import sqrt\n",
    "from plotly.subplots import make_subplots\n",
    "import plotly.graph_objects as go\n",
    "import matplotlib.pyplot as plt\n",
    "import math\n",
    "from random import random"
   ]
  },
  {
   "cell_type": "code",
   "execution_count": 21,
   "metadata": {},
   "outputs": [
    {
     "name": "stdout",
     "output_type": "stream",
     "text": [
      "Нормалізовані змінні:\n"
     ]
    },
    {
     "data": {
      "text/html": [
       "<div>\n",
       "<style scoped>\n",
       "    .dataframe tbody tr th:only-of-type {\n",
       "        vertical-align: middle;\n",
       "    }\n",
       "\n",
       "    .dataframe tbody tr th {\n",
       "        vertical-align: top;\n",
       "    }\n",
       "\n",
       "    .dataframe thead th {\n",
       "        text-align: right;\n",
       "    }\n",
       "</style>\n",
       "<table border=\"1\" class=\"dataframe\">\n",
       "  <thead>\n",
       "    <tr style=\"text-align: right;\">\n",
       "      <th></th>\n",
       "      <th>Parameter 1</th>\n",
       "      <th>Parameter 2</th>\n",
       "      <th>Parameter 3</th>\n",
       "      <th>Parameter 4</th>\n",
       "      <th>Parameter 5</th>\n",
       "      <th>Parameter 6</th>\n",
       "      <th>Parameter 7</th>\n",
       "      <th>Parameter 8</th>\n",
       "      <th>Parameter 9</th>\n",
       "      <th>Parameter 10</th>\n",
       "      <th>Parameter 11</th>\n",
       "      <th>Parameter 12</th>\n",
       "    </tr>\n",
       "  </thead>\n",
       "  <tbody>\n",
       "    <tr>\n",
       "      <th>0</th>\n",
       "      <td>-0.305336</td>\n",
       "      <td>-0.149021</td>\n",
       "      <td>-0.042164</td>\n",
       "      <td>0.215925</td>\n",
       "      <td>0.098546</td>\n",
       "      <td>-0.088066</td>\n",
       "      <td>0.088985</td>\n",
       "      <td>0.031527</td>\n",
       "      <td>-0.195075</td>\n",
       "      <td>-0.273228</td>\n",
       "      <td>-0.305013</td>\n",
       "      <td>-0.282412</td>\n",
       "    </tr>\n",
       "    <tr>\n",
       "      <th>1</th>\n",
       "      <td>-0.326320</td>\n",
       "      <td>-0.126584</td>\n",
       "      <td>0.012333</td>\n",
       "      <td>0.205804</td>\n",
       "      <td>0.015987</td>\n",
       "      <td>-0.055931</td>\n",
       "      <td>0.101234</td>\n",
       "      <td>0.049437</td>\n",
       "      <td>-0.183999</td>\n",
       "      <td>-0.250572</td>\n",
       "      <td>-0.275584</td>\n",
       "      <td>-0.263665</td>\n",
       "    </tr>\n",
       "    <tr>\n",
       "      <th>2</th>\n",
       "      <td>-0.354417</td>\n",
       "      <td>-0.111978</td>\n",
       "      <td>0.060324</td>\n",
       "      <td>0.204018</td>\n",
       "      <td>-0.067687</td>\n",
       "      <td>-0.030517</td>\n",
       "      <td>0.110762</td>\n",
       "      <td>0.064960</td>\n",
       "      <td>-0.175447</td>\n",
       "      <td>-0.232221</td>\n",
       "      <td>-0.250167</td>\n",
       "      <td>-0.246559</td>\n",
       "    </tr>\n",
       "    <tr>\n",
       "      <th>3</th>\n",
       "      <td>-0.389508</td>\n",
       "      <td>-0.108756</td>\n",
       "      <td>0.095891</td>\n",
       "      <td>0.213136</td>\n",
       "      <td>-0.146430</td>\n",
       "      <td>-0.015954</td>\n",
       "      <td>0.116107</td>\n",
       "      <td>0.076265</td>\n",
       "      <td>-0.170753</td>\n",
       "      <td>-0.221336</td>\n",
       "      <td>-0.231803</td>\n",
       "      <td>-0.232539</td>\n",
       "    </tr>\n",
       "    <tr>\n",
       "      <th>4</th>\n",
       "      <td>-0.422165</td>\n",
       "      <td>-0.114358</td>\n",
       "      <td>0.114867</td>\n",
       "      <td>0.227859</td>\n",
       "      <td>-0.206114</td>\n",
       "      <td>-0.012498</td>\n",
       "      <td>0.117415</td>\n",
       "      <td>0.082574</td>\n",
       "      <td>-0.169548</td>\n",
       "      <td>-0.219069</td>\n",
       "      <td>-0.221761</td>\n",
       "      <td>-0.222486</td>\n",
       "    </tr>\n",
       "  </tbody>\n",
       "</table>\n",
       "</div>"
      ],
      "text/plain": [
       "   Parameter 1  Parameter 2  Parameter 3  Parameter 4  Parameter 5  \\\n",
       "0    -0.305336    -0.149021    -0.042164     0.215925     0.098546   \n",
       "1    -0.326320    -0.126584     0.012333     0.205804     0.015987   \n",
       "2    -0.354417    -0.111978     0.060324     0.204018    -0.067687   \n",
       "3    -0.389508    -0.108756     0.095891     0.213136    -0.146430   \n",
       "4    -0.422165    -0.114358     0.114867     0.227859    -0.206114   \n",
       "\n",
       "   Parameter 6  Parameter 7  Parameter 8  Parameter 9  Parameter 10  \\\n",
       "0    -0.088066     0.088985     0.031527    -0.195075     -0.273228   \n",
       "1    -0.055931     0.101234     0.049437    -0.183999     -0.250572   \n",
       "2    -0.030517     0.110762     0.064960    -0.175447     -0.232221   \n",
       "3    -0.015954     0.116107     0.076265    -0.170753     -0.221336   \n",
       "4    -0.012498     0.117415     0.082574    -0.169548     -0.219069   \n",
       "\n",
       "   Parameter 11  Parameter 12  \n",
       "0     -0.305013     -0.282412  \n",
       "1     -0.275584     -0.263665  \n",
       "2     -0.250167     -0.246559  \n",
       "3     -0.231803     -0.232539  \n",
       "4     -0.221761     -0.222486  "
      ]
     },
     "execution_count": 21,
     "metadata": {},
     "output_type": "execute_result"
    }
   ],
   "source": [
    "df = pd.read_csv(\"A2.txt\", header=None, names=[f\"Parameter {x}\" for x in range(1, 13)])\n",
    "corr = df.corr()\n",
    "mean = list(df.mean(axis=0))\n",
    "deviation = list(map(lambda x: sqrt(x), list(df.var(axis=0))))\n",
    "normalized = df.copy()\n",
    "for i, j in zip(df.columns, range(len(df.columns))):\n",
    "    normalized[i] = df[i].map(lambda x: (x - mean[j]) / deviation[j])\n",
    "print(\"Нормалізовані змінні:\")\n",
    "normalized.head()"
   ]
  },
  {
   "cell_type": "code",
   "execution_count": 22,
   "metadata": {},
   "outputs": [
    {
     "name": "stdout",
     "output_type": "stream",
     "text": [
      "Кореляційна матриця\n"
     ]
    },
    {
     "data": {
      "text/html": [
       "<div>\n",
       "<style scoped>\n",
       "    .dataframe tbody tr th:only-of-type {\n",
       "        vertical-align: middle;\n",
       "    }\n",
       "\n",
       "    .dataframe tbody tr th {\n",
       "        vertical-align: top;\n",
       "    }\n",
       "\n",
       "    .dataframe thead th {\n",
       "        text-align: right;\n",
       "    }\n",
       "</style>\n",
       "<table border=\"1\" class=\"dataframe\">\n",
       "  <thead>\n",
       "    <tr style=\"text-align: right;\">\n",
       "      <th></th>\n",
       "      <th>Parameter 1</th>\n",
       "      <th>Parameter 2</th>\n",
       "      <th>Parameter 3</th>\n",
       "      <th>Parameter 4</th>\n",
       "      <th>Parameter 5</th>\n",
       "      <th>Parameter 6</th>\n",
       "      <th>Parameter 7</th>\n",
       "      <th>Parameter 8</th>\n",
       "      <th>Parameter 9</th>\n",
       "      <th>Parameter 10</th>\n",
       "      <th>Parameter 11</th>\n",
       "      <th>Parameter 12</th>\n",
       "    </tr>\n",
       "  </thead>\n",
       "  <tbody>\n",
       "    <tr>\n",
       "      <th>Parameter 1</th>\n",
       "      <td>1.000000</td>\n",
       "      <td>0.818525</td>\n",
       "      <td>0.553494</td>\n",
       "      <td>-0.902103</td>\n",
       "      <td>0.328973</td>\n",
       "      <td>0.733520</td>\n",
       "      <td>-0.631578</td>\n",
       "      <td>-0.618211</td>\n",
       "      <td>0.183891</td>\n",
       "      <td>0.864398</td>\n",
       "      <td>0.868571</td>\n",
       "      <td>0.833999</td>\n",
       "    </tr>\n",
       "    <tr>\n",
       "      <th>Parameter 2</th>\n",
       "      <td>0.818525</td>\n",
       "      <td>1.000000</td>\n",
       "      <td>0.914093</td>\n",
       "      <td>-0.983012</td>\n",
       "      <td>-0.246812</td>\n",
       "      <td>0.987464</td>\n",
       "      <td>-0.839414</td>\n",
       "      <td>-0.844818</td>\n",
       "      <td>-0.030575</td>\n",
       "      <td>0.909477</td>\n",
       "      <td>0.952104</td>\n",
       "      <td>0.965984</td>\n",
       "    </tr>\n",
       "    <tr>\n",
       "      <th>Parameter 3</th>\n",
       "      <td>0.553494</td>\n",
       "      <td>0.914093</td>\n",
       "      <td>1.000000</td>\n",
       "      <td>-0.827549</td>\n",
       "      <td>-0.593325</td>\n",
       "      <td>0.966261</td>\n",
       "      <td>-0.825041</td>\n",
       "      <td>-0.842793</td>\n",
       "      <td>-0.216924</td>\n",
       "      <td>0.723024</td>\n",
       "      <td>0.786092</td>\n",
       "      <td>0.835409</td>\n",
       "    </tr>\n",
       "    <tr>\n",
       "      <th>Parameter 4</th>\n",
       "      <td>-0.902103</td>\n",
       "      <td>-0.983012</td>\n",
       "      <td>-0.827549</td>\n",
       "      <td>1.000000</td>\n",
       "      <td>0.070347</td>\n",
       "      <td>-0.943295</td>\n",
       "      <td>0.803721</td>\n",
       "      <td>0.803033</td>\n",
       "      <td>-0.048547</td>\n",
       "      <td>-0.941180</td>\n",
       "      <td>-0.972815</td>\n",
       "      <td>-0.970298</td>\n",
       "    </tr>\n",
       "    <tr>\n",
       "      <th>Parameter 5</th>\n",
       "      <td>0.328973</td>\n",
       "      <td>-0.246812</td>\n",
       "      <td>-0.593325</td>\n",
       "      <td>0.070347</td>\n",
       "      <td>1.000000</td>\n",
       "      <td>-0.385331</td>\n",
       "      <td>0.309920</td>\n",
       "      <td>0.342701</td>\n",
       "      <td>0.401585</td>\n",
       "      <td>0.007328</td>\n",
       "      <td>-0.062007</td>\n",
       "      <td>-0.147291</td>\n",
       "    </tr>\n",
       "    <tr>\n",
       "      <th>Parameter 6</th>\n",
       "      <td>0.733520</td>\n",
       "      <td>0.987464</td>\n",
       "      <td>0.966261</td>\n",
       "      <td>-0.943295</td>\n",
       "      <td>-0.385331</td>\n",
       "      <td>1.000000</td>\n",
       "      <td>-0.851928</td>\n",
       "      <td>-0.862264</td>\n",
       "      <td>-0.104069</td>\n",
       "      <td>0.855639</td>\n",
       "      <td>0.907302</td>\n",
       "      <td>0.935450</td>\n",
       "    </tr>\n",
       "    <tr>\n",
       "      <th>Parameter 7</th>\n",
       "      <td>-0.631578</td>\n",
       "      <td>-0.839414</td>\n",
       "      <td>-0.825041</td>\n",
       "      <td>0.803721</td>\n",
       "      <td>0.309920</td>\n",
       "      <td>-0.851928</td>\n",
       "      <td>1.000000</td>\n",
       "      <td>0.993876</td>\n",
       "      <td>0.511689</td>\n",
       "      <td>-0.655358</td>\n",
       "      <td>-0.764369</td>\n",
       "      <td>-0.847915</td>\n",
       "    </tr>\n",
       "    <tr>\n",
       "      <th>Parameter 8</th>\n",
       "      <td>-0.618211</td>\n",
       "      <td>-0.844818</td>\n",
       "      <td>-0.842793</td>\n",
       "      <td>0.803033</td>\n",
       "      <td>0.342701</td>\n",
       "      <td>-0.862264</td>\n",
       "      <td>0.993876</td>\n",
       "      <td>1.000000</td>\n",
       "      <td>0.512579</td>\n",
       "      <td>-0.648089</td>\n",
       "      <td>-0.756702</td>\n",
       "      <td>-0.838802</td>\n",
       "    </tr>\n",
       "    <tr>\n",
       "      <th>Parameter 9</th>\n",
       "      <td>0.183891</td>\n",
       "      <td>-0.030575</td>\n",
       "      <td>-0.216924</td>\n",
       "      <td>-0.048547</td>\n",
       "      <td>0.401585</td>\n",
       "      <td>-0.104069</td>\n",
       "      <td>0.511689</td>\n",
       "      <td>0.512579</td>\n",
       "      <td>1.000000</td>\n",
       "      <td>0.289762</td>\n",
       "      <td>0.124149</td>\n",
       "      <td>-0.024050</td>\n",
       "    </tr>\n",
       "    <tr>\n",
       "      <th>Parameter 10</th>\n",
       "      <td>0.864398</td>\n",
       "      <td>0.909477</td>\n",
       "      <td>0.723024</td>\n",
       "      <td>-0.941180</td>\n",
       "      <td>0.007328</td>\n",
       "      <td>0.855639</td>\n",
       "      <td>-0.655358</td>\n",
       "      <td>-0.648089</td>\n",
       "      <td>0.289762</td>\n",
       "      <td>1.000000</td>\n",
       "      <td>0.981492</td>\n",
       "      <td>0.940636</td>\n",
       "    </tr>\n",
       "    <tr>\n",
       "      <th>Parameter 11</th>\n",
       "      <td>0.868571</td>\n",
       "      <td>0.952104</td>\n",
       "      <td>0.786092</td>\n",
       "      <td>-0.972815</td>\n",
       "      <td>-0.062007</td>\n",
       "      <td>0.907302</td>\n",
       "      <td>-0.764369</td>\n",
       "      <td>-0.756702</td>\n",
       "      <td>0.124149</td>\n",
       "      <td>0.981492</td>\n",
       "      <td>1.000000</td>\n",
       "      <td>0.985711</td>\n",
       "    </tr>\n",
       "    <tr>\n",
       "      <th>Parameter 12</th>\n",
       "      <td>0.833999</td>\n",
       "      <td>0.965984</td>\n",
       "      <td>0.835409</td>\n",
       "      <td>-0.970298</td>\n",
       "      <td>-0.147291</td>\n",
       "      <td>0.935450</td>\n",
       "      <td>-0.847915</td>\n",
       "      <td>-0.838802</td>\n",
       "      <td>-0.024050</td>\n",
       "      <td>0.940636</td>\n",
       "      <td>0.985711</td>\n",
       "      <td>1.000000</td>\n",
       "    </tr>\n",
       "  </tbody>\n",
       "</table>\n",
       "</div>"
      ],
      "text/plain": [
       "              Parameter 1  Parameter 2  Parameter 3  Parameter 4  Parameter 5  \\\n",
       "Parameter 1      1.000000     0.818525     0.553494    -0.902103     0.328973   \n",
       "Parameter 2      0.818525     1.000000     0.914093    -0.983012    -0.246812   \n",
       "Parameter 3      0.553494     0.914093     1.000000    -0.827549    -0.593325   \n",
       "Parameter 4     -0.902103    -0.983012    -0.827549     1.000000     0.070347   \n",
       "Parameter 5      0.328973    -0.246812    -0.593325     0.070347     1.000000   \n",
       "Parameter 6      0.733520     0.987464     0.966261    -0.943295    -0.385331   \n",
       "Parameter 7     -0.631578    -0.839414    -0.825041     0.803721     0.309920   \n",
       "Parameter 8     -0.618211    -0.844818    -0.842793     0.803033     0.342701   \n",
       "Parameter 9      0.183891    -0.030575    -0.216924    -0.048547     0.401585   \n",
       "Parameter 10     0.864398     0.909477     0.723024    -0.941180     0.007328   \n",
       "Parameter 11     0.868571     0.952104     0.786092    -0.972815    -0.062007   \n",
       "Parameter 12     0.833999     0.965984     0.835409    -0.970298    -0.147291   \n",
       "\n",
       "              Parameter 6  Parameter 7  Parameter 8  Parameter 9  \\\n",
       "Parameter 1      0.733520    -0.631578    -0.618211     0.183891   \n",
       "Parameter 2      0.987464    -0.839414    -0.844818    -0.030575   \n",
       "Parameter 3      0.966261    -0.825041    -0.842793    -0.216924   \n",
       "Parameter 4     -0.943295     0.803721     0.803033    -0.048547   \n",
       "Parameter 5     -0.385331     0.309920     0.342701     0.401585   \n",
       "Parameter 6      1.000000    -0.851928    -0.862264    -0.104069   \n",
       "Parameter 7     -0.851928     1.000000     0.993876     0.511689   \n",
       "Parameter 8     -0.862264     0.993876     1.000000     0.512579   \n",
       "Parameter 9     -0.104069     0.511689     0.512579     1.000000   \n",
       "Parameter 10     0.855639    -0.655358    -0.648089     0.289762   \n",
       "Parameter 11     0.907302    -0.764369    -0.756702     0.124149   \n",
       "Parameter 12     0.935450    -0.847915    -0.838802    -0.024050   \n",
       "\n",
       "              Parameter 10  Parameter 11  Parameter 12  \n",
       "Parameter 1       0.864398      0.868571      0.833999  \n",
       "Parameter 2       0.909477      0.952104      0.965984  \n",
       "Parameter 3       0.723024      0.786092      0.835409  \n",
       "Parameter 4      -0.941180     -0.972815     -0.970298  \n",
       "Parameter 5       0.007328     -0.062007     -0.147291  \n",
       "Parameter 6       0.855639      0.907302      0.935450  \n",
       "Parameter 7      -0.655358     -0.764369     -0.847915  \n",
       "Parameter 8      -0.648089     -0.756702     -0.838802  \n",
       "Parameter 9       0.289762      0.124149     -0.024050  \n",
       "Parameter 10      1.000000      0.981492      0.940636  \n",
       "Parameter 11      0.981492      1.000000      0.985711  \n",
       "Parameter 12      0.940636      0.985711      1.000000  "
      ]
     },
     "execution_count": 22,
     "metadata": {},
     "output_type": "execute_result"
    }
   ],
   "source": [
    "print(\"Кореляційна матриця\")\n",
    "corr"
   ]
  },
  {
   "cell_type": "code",
   "execution_count": 23,
   "metadata": {},
   "outputs": [
    {
     "name": "stdout",
     "output_type": "stream",
     "text": [
      "Коефіцієнт лінійної  регресії альфа1 дорівнює -0.97\n"
     ]
    }
   ],
   "source": [
    "x = normalized[\"Parameter 4\"].copy()\n",
    "y = normalized[\"Parameter 12\"].copy()\n",
    "n = len(y)\n",
    "alpha1_numerator = n * sum(x * y) - x.sum() * y.sum()\n",
    "alpha1_deminator = n * sum(x * x) - x.sum() ** 2\n",
    "alpha1 = alpha1_numerator / alpha1_deminator\n",
    "print(f\"Коефіцієнт лінійної  регресії альфа1 дорівнює {round(alpha1, 3)}\")"
   ]
  },
  {
   "cell_type": "code",
   "execution_count": 24,
   "metadata": {},
   "outputs": [
    {
     "name": "stdout",
     "output_type": "stream",
     "text": [
      "Коефіцієнт лінійної  регресії альфа0 дорівнює -0.0\n"
     ]
    }
   ],
   "source": [
    "alpha0 = (y.sum() - alpha1 * x.sum()) / n\n",
    "print(f\"Коефіцієнт лінійної  регресії альфа0 дорівнює {round(alpha0, 3)}\")"
   ]
  },
  {
   "cell_type": "markdown",
   "metadata": {},
   "source": [
    "## Графік розподілу:"
   ]
  },
  {
   "cell_type": "code",
   "execution_count": 25,
   "metadata": {},
   "outputs": [
    {
     "data": {
      "image/png": "[encoded data removed]",
      "text/plain": [
       "<Figure size 576x396 with 1 Axes>"
      ]
     },
     "metadata": {},
     "output_type": "display_data"
    }
   ],
   "source": [
    "plt.scatter(\n",
    "    normalized[\"Parameter 4\"], normalized[\"Parameter 12\"], color=\"m\", marker=\"o\", s=30\n",
    ")\n",
    "y_pred = alpha0 + alpha1 * x\n",
    "plt.plot(x, y_pred, color=\"g\")\n",
    "plt.xlabel(\"Parameter 4\")\n",
    "plt.ylabel(\"Parameter 12\")\n",
    "plt.show()"
   ]
  },
  {
   "cell_type": "markdown",
   "metadata": {},
   "source": [
    "## Перевірка на викиди"
   ]
  },
  {
   "cell_type": "code",
   "execution_count": 26,
   "metadata": {},
   "outputs": [
    {
     "name": "stdout",
     "output_type": "stream",
     "text": [
      "R = 4.896298421593083\n"
     ]
    }
   ],
   "source": [
    "ei = y - y_pred\n",
    "a = x - x.mean()\n",
    "S2 = sum(ei * ei) * (1 - 1 / n - (a ** 2) / sum(a ** 2)) / (n - 2)\n",
    "S = S2.map(lambda x: sqrt(x))\n",
    "R = ei / S\n",
    "print(f\"R = {R.max()}\")\n",
    "Rd = 4\n",
    "emission_num = 0"
   ]
  },
  {
   "cell_type": "code",
   "execution_count": 28,
   "metadata": {},
   "outputs": [
    {
     "name": "stdout",
     "output_type": "stream",
     "text": [
      "У даних було 34 викидів\n",
      "Після очищення данних від викидів коефіцієнти лінійної регресії стали такими:\n",
      "alpha1 = -0.9477, alpha0 = -0.0073\n",
      "Отже рівняння лінійної регресії набуло виду:\n",
      "y=-0.9477x-0.0073 \n"
     ]
    }
   ],
   "source": [
    "while R.max() > Rd:\n",
    "    for index in list(R[R == R.max()].index):\n",
    "        y = y[~y.index.isin([index])]\n",
    "        x = x[~x.index.isin([index])]\n",
    "        emission_num += 1\n",
    "    n = len(y)\n",
    "    alpha1_numerator = n * sum(x * y) - x.sum() * y.sum()\n",
    "    alpha1_deminator = n * sum(x * x) - x.sum() ** 2\n",
    "    alpha1 = alpha1_numerator / alpha1_deminator\n",
    "    alpha0 = (y.sum() - alpha1 * x.sum()) / n\n",
    "    y_pred = alpha0 + alpha1 * x\n",
    "    ei = y - y_pred\n",
    "    a = x - x.mean()\n",
    "    S2 = sum(ei * ei) * (1 - 1 / n - (a ** 2) / sum(a ** 2)) / (n - 2)\n",
    "    S = S2.map(lambda x: sqrt(x))\n",
    "    R = ei / S\n",
    "print(f\"У даних було {emission_num} викидів\")\n",
    "print(\n",
    "    f\"Після очищення данних від викидів коефіцієнти лінійної регресії стали такими:\\nalpha1 = {round(alpha1,4)}, alpha0 = {round(alpha0,4)}\"\n",
    ")\n",
    "print(\n",
    "    f\"Отже рівняння лінійної регресії набуло виду:\\ny={round(alpha1,4)}x{round(alpha0,4)} \"\n",
    ")"
   ]
  },
  {
   "cell_type": "markdown",
   "metadata": {},
   "source": [
    "## Графік після очищення даних:\n"
   ]
  },
  {
   "cell_type": "code",
   "execution_count": 29,
   "metadata": {},
   "outputs": [
    {
     "data": {
      "image/png": "[encoded data removed]",
      "text/plain": [
       "<Figure size 576x396 with 1 Axes>"
      ]
     },
     "metadata": {},
     "output_type": "display_data"
    }
   ],
   "source": [
    "plt.scatter(x, y, color = \"m\",\n",
    "marker = \"o\", s = 30)\n",
    "plt.plot(x, y_pred, alpha=0.95, color = \"g\")\n",
    "plt.xlabel('Parameter 4')\n",
    "plt.ylabel('Parameter 12')\n",
    "plt.show()"
   ]
  },
  {
   "cell_type": "markdown",
   "metadata": {},
   "source": [
    "## Перевірка гіпотез"
   ]
  },
  {
   "cell_type": "code",
   "execution_count": 30,
   "metadata": {},
   "outputs": [],
   "source": [
    "n = len(normalized[\"Parameter 4\"])\n",
    "y_a_bx = (normalized[\"Parameter 11\"] - alpha0 - alpha1 * normalized[\"Parameter 4\"]).map(\n",
    "    lambda x: x ** 2\n",
    ")\n",
    "S2 = (1 / (n - 2)) * (sum(y_a_bx))\n",
    "meanx = normalized[\"Parameter 4\"].mean()\n",
    "x_X = (normalized[\"Parameter 4\"] - meanx).map(lambda x: x ** 2)\n",
    "S2x = (1 / (n - 1)) * (sum(x_X))\n",
    "S_b = math.sqrt(S2) / (math.sqrt(S2x) * math.sqrt(n - 1))\n",
    "t = 1.96\n",
    "value_b = S_b * t\n",
    "Sa = math.sqrt(S2) * math.sqrt(1 / n + meanx ** 2 / ((n - 1) * S2x))\n",
    "value_a = Sa * t\n",
    "meany = normalized[\"Parameter 11\"].mean()\n",
    "y_Y = (normalized[\"Parameter 11\"] - meany).map(lambda x: x ** 2)\n",
    "S2y = (1 / (n - 1)) * (sum(y_Y))\n",
    "adequacy = S2 / S2y"
   ]
  },
  {
   "cell_type": "code",
   "execution_count": 31,
   "metadata": {},
   "outputs": [
    {
     "name": "stdout",
     "output_type": "stream",
     "text": [
      "0.9477 > 0.0065: True\n",
      "Отже, коефіцієнт b є значущим\n",
      "\n",
      "0.0073 > 0.0065: True\n",
      "Отже, коефіцієнт a є значущим\n",
      "\n",
      "0.0543 < 1.1: True\n",
      "Отже, модель є адекватною\n"
     ]
    }
   ],
   "source": [
    "print(f\"{round(abs(alpha1),4)} > {round(value_b,4)}: {abs(alpha1)>value_b}\")\n",
    "if abs(alpha1) > value_b:\n",
    "    print(\"Отже, коефіцієнт b є значущим\")\n",
    "else:\n",
    "    print(\"Отже, коефіцієнт не b є значущим\")\n",
    "print(f\"\\n{round(abs(alpha0),4)} > {round(value_a,4)}: {abs(alpha0)>value_a}\")\n",
    "if abs(alpha0) > value_a:\n",
    "    print(\"Отже, коефіцієнт a є значущим\")\n",
    "else:\n",
    "    print(\"Отже, коефіцієнт не a є значущим\")\n",
    "print(f\"\\n{round(adequacy,4)} < {1.1}: {adequacy<1.1}\")\n",
    "if abs(alpha0) > value_a:\n",
    "    print(\"Отже, модель є адекватною\")\n",
    "else:\n",
    "    print(\"Отже, Модель є не адекватною\")"
   ]
  },
  {
   "cell_type": "markdown",
   "metadata": {},
   "source": [
    "# Завдання В"
   ]
  },
  {
   "cell_type": "code",
   "execution_count": 32,
   "metadata": {},
   "outputs": [
    {
     "data": {
      "text/html": [
       "<div>\n",
       "<style scoped>\n",
       "    .dataframe tbody tr th:only-of-type {\n",
       "        vertical-align: middle;\n",
       "    }\n",
       "\n",
       "    .dataframe tbody tr th {\n",
       "        vertical-align: top;\n",
       "    }\n",
       "\n",
       "    .dataframe thead th {\n",
       "        text-align: right;\n",
       "    }\n",
       "</style>\n",
       "<table border=\"1\" class=\"dataframe\">\n",
       "  <thead>\n",
       "    <tr style=\"text-align: right;\">\n",
       "      <th></th>\n",
       "      <th>X1</th>\n",
       "      <th>X3</th>\n",
       "      <th>X5</th>\n",
       "      <th>Y</th>\n",
       "    </tr>\n",
       "  </thead>\n",
       "  <tbody>\n",
       "    <tr>\n",
       "      <th>0</th>\n",
       "      <td>-0.305336</td>\n",
       "      <td>-0.042164</td>\n",
       "      <td>0.098546</td>\n",
       "      <td>-1.474440</td>\n",
       "    </tr>\n",
       "    <tr>\n",
       "      <th>1</th>\n",
       "      <td>-0.326320</td>\n",
       "      <td>0.012333</td>\n",
       "      <td>0.015987</td>\n",
       "      <td>-1.620647</td>\n",
       "    </tr>\n",
       "    <tr>\n",
       "      <th>2</th>\n",
       "      <td>-0.354417</td>\n",
       "      <td>0.060324</td>\n",
       "      <td>-0.067687</td>\n",
       "      <td>-1.778133</td>\n",
       "    </tr>\n",
       "    <tr>\n",
       "      <th>3</th>\n",
       "      <td>-0.389508</td>\n",
       "      <td>0.095891</td>\n",
       "      <td>-0.146430</td>\n",
       "      <td>-1.957344</td>\n",
       "    </tr>\n",
       "    <tr>\n",
       "      <th>4</th>\n",
       "      <td>-0.422165</td>\n",
       "      <td>0.114867</td>\n",
       "      <td>-0.206114</td>\n",
       "      <td>-2.122735</td>\n",
       "    </tr>\n",
       "    <tr>\n",
       "      <th>...</th>\n",
       "      <td>...</td>\n",
       "      <td>...</td>\n",
       "      <td>...</td>\n",
       "      <td>...</td>\n",
       "    </tr>\n",
       "    <tr>\n",
       "      <th>4995</th>\n",
       "      <td>-0.509067</td>\n",
       "      <td>-0.835930</td>\n",
       "      <td>0.408977</td>\n",
       "      <td>-1.454651</td>\n",
       "    </tr>\n",
       "    <tr>\n",
       "      <th>4996</th>\n",
       "      <td>-0.529940</td>\n",
       "      <td>-0.869033</td>\n",
       "      <td>0.427010</td>\n",
       "      <td>-1.473040</td>\n",
       "    </tr>\n",
       "    <tr>\n",
       "      <th>4997</th>\n",
       "      <td>-0.509255</td>\n",
       "      <td>-0.921881</td>\n",
       "      <td>0.511840</td>\n",
       "      <td>-0.963460</td>\n",
       "    </tr>\n",
       "    <tr>\n",
       "      <th>4998</th>\n",
       "      <td>-0.459761</td>\n",
       "      <td>-0.987438</td>\n",
       "      <td>0.642222</td>\n",
       "      <td>-0.042717</td>\n",
       "    </tr>\n",
       "    <tr>\n",
       "      <th>4999</th>\n",
       "      <td>-0.397822</td>\n",
       "      <td>-1.058684</td>\n",
       "      <td>0.792766</td>\n",
       "      <td>1.117217</td>\n",
       "    </tr>\n",
       "  </tbody>\n",
       "</table>\n",
       "<p>5000 rows × 4 columns</p>\n",
       "</div>"
      ],
      "text/plain": [
       "            X1        X3        X5         Y\n",
       "0    -0.305336 -0.042164  0.098546 -1.474440\n",
       "1    -0.326320  0.012333  0.015987 -1.620647\n",
       "2    -0.354417  0.060324 -0.067687 -1.778133\n",
       "3    -0.389508  0.095891 -0.146430 -1.957344\n",
       "4    -0.422165  0.114867 -0.206114 -2.122735\n",
       "...        ...       ...       ...       ...\n",
       "4995 -0.509067 -0.835930  0.408977 -1.454651\n",
       "4996 -0.529940 -0.869033  0.427010 -1.473040\n",
       "4997 -0.509255 -0.921881  0.511840 -0.963460\n",
       "4998 -0.459761 -0.987438  0.642222 -0.042717\n",
       "4999 -0.397822 -1.058684  0.792766  1.117217\n",
       "\n",
       "[5000 rows x 4 columns]"
      ]
     },
     "execution_count": 32,
     "metadata": {},
     "output_type": "execute_result"
    }
   ],
   "source": [
    "K = 6\n",
    "a1 = K + random()\n",
    "a2 = -K / 3 + random()\n",
    "a3 = K / 2 + random()\n",
    "X1 = normalized[\"Parameter 1\"]\n",
    "X3 = normalized[\"Parameter 3\"]\n",
    "X5 = normalized[\"Parameter 5\"]\n",
    "Y = a1 * X1 + a2 * X3 * a3 * X5 + 2 * (random() - 0.5)\n",
    "data = pd.DataFrame({\"X1\": X1, \"X3\": X3, \"X5\": X5, \"Y\": Y})\n",
    "data"
   ]
  },
  {
   "cell_type": "code",
   "execution_count": 33,
   "metadata": {},
   "outputs": [
    {
     "name": "stdout",
     "output_type": "stream",
     "text": [
      "Значення коефіцієнтів моделі (вектор α):\n"
     ]
    },
    {
     "data": {
      "text/plain": [
       "[2.6444174216950422,\n",
       " 10.03262473634015,\n",
       " -24.068230982744172,\n",
       " 0.30023358720304527,\n",
       " -4.58697339024603,\n",
       " 2.5864524936692046,\n",
       " 29.829749847506687,\n",
       " -9.016222312757437,\n",
       " 15.743433833752338,\n",
       " -5.2924941800927705,\n",
       " 9.337256607948214,\n",
       " -29.181544134519253,\n",
       " 15.0933449926919]"
      ]
     },
     "execution_count": 33,
     "metadata": {},
     "output_type": "execute_result"
    }
   ],
   "source": [
    "normalized_1 = normalized.copy()\n",
    "normalized_1.insert(0, \"1\", [1 for i in range(n)], True)\n",
    "X = np.array(normalized_1)\n",
    "Y = np.array(list(data[\"Y\"]))\n",
    "alpha = np.linalg.lstsq(X, Y, rcond=None)[0]\n",
    "print(\"Значення коефіцієнтів моделі (вектор α):\")\n",
    "list(alpha)"
   ]
  },
  {
   "cell_type": "markdown",
   "metadata": {},
   "source": [
    "## Перевірки значущості регресії"
   ]
  },
  {
   "cell_type": "code",
   "execution_count": 34,
   "metadata": {},
   "outputs": [
    {
     "name": "stdout",
     "output_type": "stream",
     "text": [
      "F=5.73592 > 4.21=Fcr: True\n",
      "Отже, гіпотеза H0 не виконується \n",
      "Рівняння лінійної регресії:\n",
      "y=2.6444 + 10.0326*X1 + -24.0682*X2 +0.3002*X3 + -4.587*X4 + 2.5865*X5 + 29.8297*X6\n"
     ]
    }
   ],
   "source": [
    "Q = np.dot(np.transpose(Y - X.dot(alpha)), Y - X.dot(alpha))\n",
    "Qr = np.dot(np.transpose(X.dot(alpha)), X.dot(alpha))\n",
    "F = (Qr / (6 + 1)) / (Q / (13 - 6 - 1))\n",
    "s2 = (\n",
    "    sum(\n",
    "        (normalized[\"Parameter 1\"] - normalized[\"Parameter 1\"].mean()).map(\n",
    "            lambda x: x ** 2\n",
    "        )\n",
    "    )\n",
    "    / 6\n",
    ")\n",
    "Fcr = 4.21\n",
    "print(f\"F={round(F,5)} > {Fcr}=Fcr: {F>Fcr}\")\n",
    "if F > Fcr:\n",
    "    print(\"Отже, гіпотеза H0 не виконується \")\n",
    "else:\n",
    "    print(\"Отже, гіпотеза H0 виконується \")\n",
    "print(\n",
    "    f\"Рівняння лінійної регресії:\\ny={round(alpha[0],4)} + {round(alpha[1],4)}*X1 + {round(alpha[2],4)}*X2 +{round(alpha[3],4)}*X3 + {round(alpha[4],4)}*X4 + {round(alpha[5],4)}*X5 + {round(alpha[6],4)}*X6\"\n",
    ")"
   ]
  },
  {
   "cell_type": "code",
   "execution_count": 35,
   "metadata": {},
   "outputs": [
    {
     "name": "stdout",
     "output_type": "stream",
     "text": [
      "tj = [1.7206, 6.5273, -15.6589, 0.1953, -2.9843, 1.6828, 19.4074]\n"
     ]
    }
   ],
   "source": [
    "s = math.sqrt(Q / 6)\n",
    "tj = []\n",
    "tj_half = list(map(lambda x: x / s, list(alpha[:7])))\n",
    "for i in range(7):\n",
    "    if i == 0:\n",
    "        tj.append(\n",
    "            tj_half[i]\n",
    "            / math.sqrt(\n",
    "                1\n",
    "                / np.array([normalized_1[f\"1\"]]).dot(\n",
    "                    np.transpose(np.array([normalized_1[f\"1\"]]))\n",
    "                )\n",
    "            )\n",
    "        )\n",
    "    else:\n",
    "        tj.append(\n",
    "            tj_half[i]\n",
    "            / math.sqrt(\n",
    "                1\n",
    "                / np.array([normalized_1[f\"Parameter {i}\"]]).dot(\n",
    "                    np.transpose(np.array([normalized_1[f\"Parameter {i}\"]]))\n",
    "                )\n",
    "            )\n",
    "        )\n",
    "tj = list(map(lambda x: round(x, 4), tj))\n",
    "print(f\"tj = {tj}\")"
   ]
  },
  {
   "cell_type": "markdown",
   "metadata": {},
   "source": [
    "# Завдання С \n",
    "Провести апроксимацію емпіричних залежностей\n",
    "тригонометричними многочленами"
   ]
  },
  {
   "cell_type": "code",
   "execution_count": 36,
   "metadata": {},
   "outputs": [],
   "source": [
    "T = normalized[\"Parameter 3\"].values\n",
    "y = normalized[\"Parameter 5\"].values\n",
    "ln = len(T)\n",
    "a = []\n",
    "b = []\n",
    "for i in range(1000):\n",
    "    a_i = 0\n",
    "    for j in range(ln):\n",
    "        a_i += 2 / ln * y[j] * np.cos(2 * np.pi * j * (i + 1) / ln)\n",
    "    a.append(a_i)\n",
    "for i in range(1000):\n",
    "    b_i = 0\n",
    "    for j in range(ln):\n",
    "        b_i += 2 / ln * y[j] * np.sin(2 * np.pi * j * (i + 1) / ln)\n",
    "    b.append(b_i)"
   ]
  },
  {
   "cell_type": "code",
   "execution_count": 37,
   "metadata": {},
   "outputs": [
    {
     "data": {
      "image/png": "[encoded data removed]",
      "text/plain": [
       "<Figure size 576x396 with 1 Axes>"
      ]
     },
     "metadata": {},
     "output_type": "display_data"
    }
   ],
   "source": [
    "normalized[\"Parameter 5\"].plot()\n",
    "\n",
    "poli = []\n",
    "poli_i = 0\n",
    "for i in range(1000):\n",
    "    for j in range(ln - 1):\n",
    "        x = j * T / n\n",
    "        poli_i += a[i] * np.cos(2 * np.pi * (i + 1) * x[j + 1] / T[j + 1]) + b[\n",
    "            i\n",
    "        ] * np.sin(2 * np.pi * (i + 1) * x[j + 1] / T[j + 1])\n",
    "    poli.append(a[0] + poli_i)\n",
    "del poli[0]\n",
    "x_x = np.linspace(0, n, 999)\n",
    "plt.style.use(\"seaborn\")\n",
    "plt.plot(x_x, poli, color=\"#0E9F28\", linewidth=3)\n",
    "plt.tight_layout()\n",
    "plt.show()"
   ]
  },
  {
   "cell_type": "code",
   "execution_count": null,
   "metadata": {},
   "outputs": [],
   "source": []
  }
 ],
 "metadata": {
  "kernelspec": {
   "display_name": "Python 3",
   "language": "python",
   "name": "python3"
  },
  "language_info": {
   "codemirror_mode": {
    "name": "ipython",
    "version": 3
   },
   "file_extension": ".py",
   "mimetype": "text/x-python",
   "name": "python",
   "nbconvert_exporter": "python",
   "pygments_lexer": "ipython3",
   "version": "3.7.8"
  }
 },
 "nbformat": 4,
 "nbformat_minor": 5
}
